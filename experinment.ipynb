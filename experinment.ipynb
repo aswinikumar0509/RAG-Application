{
 "cells": [
  {
   "cell_type": "code",
   "execution_count": 1,
   "metadata": {},
   "outputs": [
    {
     "data": {
      "text/plain": [
       "ChatGroq(client=<groq.resources.chat.completions.Completions object at 0x000001CE0D4D8310>, async_client=<groq.resources.chat.completions.AsyncCompletions object at 0x000001CE0D4D96C0>, model_name='Llama3-8b-8192', model_kwargs={}, groq_api_key=SecretStr('**********'))"
      ]
     },
     "execution_count": 1,
     "metadata": {},
     "output_type": "execute_result"
    }
   ],
   "source": [
    "import os\n",
    "from dotenv import load_dotenv\n",
    "load_dotenv()\n",
    "from langchain_groq import ChatGroq\n",
    "\n",
    "groq_api_key=os.getenv(\"GROQ_API_KEY\")\n",
    "\n",
    "llm=ChatGroq(groq_api_key=groq_api_key,model_name=\"Llama3-8b-8192\")\n",
    "\n",
    "llm"
   ]
  },
  {
   "cell_type": "code",
   "execution_count": 2,
   "metadata": {},
   "outputs": [
    {
     "name": "stderr",
     "output_type": "stream",
     "text": [
      "c:\\Users\\aswin\\anaconda3\\envs\\langenv\\lib\\site-packages\\tqdm\\auto.py:21: TqdmWarning: IProgress not found. Please update jupyter and ipywidgets. See https://ipywidgets.readthedocs.io/en/stable/user_install.html\n",
      "  from .autonotebook import tqdm as notebook_tqdm\n"
     ]
    }
   ],
   "source": [
    "os.environ[\"hf_token\"]=os.getenv(\"hf_token\")\n",
    "from langchain_huggingface import HuggingFaceEmbeddings\n",
    "embeddings=HuggingFaceEmbeddings(model_name=\"all-MiniLM-L6-v2\")"
   ]
  },
  {
   "cell_type": "code",
   "execution_count": 3,
   "metadata": {},
   "outputs": [
    {
     "name": "stderr",
     "output_type": "stream",
     "text": [
      "USER_AGENT environment variable not set, consider setting it to identify your requests.\n"
     ]
    }
   ],
   "source": [
    "from langchain_chroma import Chroma\n",
    "from langchain_community.document_loaders import WebBaseLoader\n",
    "from langchain_core.prompts import ChatPromptTemplate\n",
    "from langchain_text_splitters import RecursiveCharacterTextSplitter\n",
    "from langchain.chains import create_retrieval_chain\n",
    "from langchain.chains.combine_documents import create_stuff_documents_chain\n",
    "from langchain_community.document_loaders import PyPDFDirectoryLoader"
   ]
  },
  {
   "cell_type": "code",
   "execution_count": 4,
   "metadata": {},
   "outputs": [],
   "source": [
    "from langchain_community.document_loaders import PyPDFLoader\n",
    "from langchain.text_splitter import RecursiveCharacterTextSplitter\n",
    "loader = PyPDFLoader(\"lawdocunment.pdf\")\n",
    "pages = loader.load()"
   ]
  },
  {
   "cell_type": "code",
   "execution_count": 5,
   "metadata": {},
   "outputs": [
    {
     "data": {
      "text/plain": [
       "Document(metadata={'producer': 'PyPDF', 'creator': 'Nitro Pro 12', 'creationdate': '', 'moddate': '2020-06-26T16:26:07+05:30', 'source': 'lawdocunment.pdf', 'total_pages': 171, 'page': 0, 'page_label': '1'}, page_content=\"KLE LAW ACADEMY BELAGAVI \\n(Constituent Colleges: KLE Society’s Law College, Bengaluru, Gurusiddappa Kotambri Law College, \\nHubballi, S.A. Manvi Law College, Gadag, KLE Society’s B.V. Bellad Law College, Belagavi, KLE Law \\nCollege, Chikodi, and KLE College of Law, Kalamboli, Navi Mumbai) \\n \\n \\nSTUDY MATERIAL \\nfor \\nCONTRACT I \\nPrepared as per the syllabus prescribed by Karnataka State Law University (KSLU), Hubballi \\n \\nCompiled by \\nDr. J.M. Mallikarjunaiah \\nAnkita Pandey, Asst. Prof. \\nKavyashree Bhandary, Asst. Prof. \\n \\n \\nReviewed by \\n \\nDr. J.M. Mallikarjunaiah \\nK.L.E. Society's Law College, Bengaluru \\n \\nThis study material is intended to be used as supplementary material to  the online classes and \\nrecorded video lectures. It is prepared for the sole purpose of guiding the students in preparation \\nfor their examinations. Utmost care has been taken to ensure the accuracy of the content. \\nHowever, it is stressed that this material is not meant to be used as a replacement for textbooks \\nor commentaries on the subject. This is a compilation and the authors take no credit for the \\noriginality of the content. Acknowledgement, wherever due, has been provided.\")"
      ]
     },
     "execution_count": 5,
     "metadata": {},
     "output_type": "execute_result"
    }
   ],
   "source": [
    "pages[0]"
   ]
  },
  {
   "cell_type": "code",
   "execution_count": 6,
   "metadata": {},
   "outputs": [
    {
     "data": {
      "text/plain": [
       "VectorStoreRetriever(tags=['Chroma', 'HuggingFaceEmbeddings'], vectorstore=<langchain_chroma.vectorstores.Chroma object at 0x000001CE0AD2D9C0>, search_kwargs={})"
      ]
     },
     "execution_count": 6,
     "metadata": {},
     "output_type": "execute_result"
    }
   ],
   "source": [
    "#### Spliitng the text into smaller chunks\n",
    "text_splitter = RecursiveCharacterTextSplitter(chunk_size=1000,chunk_overlap=200)\n",
    "splits=text_splitter.split_documents(pages)\n",
    "vectorstore=Chroma.from_documents(documents=splits,embedding=embeddings)\n",
    "retriever=vectorstore.as_retriever()\n",
    "retriever"
   ]
  },
  {
   "cell_type": "code",
   "execution_count": 7,
   "metadata": {},
   "outputs": [],
   "source": [
    "system_prompt = (\n",
    "    \"You are an assistant for question-answering tasks. \"\n",
    "    \"Use the following pieces of retrieved context to answer \"\n",
    "    \"the question. If you don't know the answer, say that you \"\n",
    "    \"don't know. Use three sentences maximum and keep the \"\n",
    "    \"answer concise.\"\n",
    "    \"\\n\\n\"\n",
    "    \"{context}\"\n",
    ")"
   ]
  },
  {
   "cell_type": "code",
   "execution_count": 8,
   "metadata": {},
   "outputs": [],
   "source": [
    "prompt = ChatPromptTemplate.from_messages(\n",
    "    [\n",
    "        (\"system\",system_prompt),\n",
    "        (\"human\",\"{input}\"),\n",
    "    ]\n",
    ")"
   ]
  },
  {
   "cell_type": "code",
   "execution_count": 9,
   "metadata": {},
   "outputs": [],
   "source": [
    "question_answer_chain = create_stuff_documents_chain(llm,prompt)\n",
    "rag_chain=create_retrieval_chain(retriever,question_answer_chain)"
   ]
  },
  {
   "cell_type": "code",
   "execution_count": 12,
   "metadata": {},
   "outputs": [
    {
     "data": {
      "text/plain": [
       "{'input': 'What is contract',\n",
       " 'context': [Document(id='926d40b8-d88f-415e-9949-d08f6dbdc9b4', metadata={'creationdate': '', 'creator': 'Nitro Pro 12', 'moddate': '2020-06-26T16:26:07+05:30', 'page': 6, 'page_label': '7', 'producer': 'PyPDF', 'source': 'lawdocunment.pdf', 'total_pages': 171}, page_content='UNIT I \\nIntroduction  \\nThe Law of Contract constitutes the most important branch of mercantile or commercial law. \\nIt affects everybody, more so, trade, commerce and industry. It may be said that the contract is \\nthe foundation of the civilized world. The law relating to contract is governed by  the Indian \\nContract Act, 1872 . The preamble to the Act says that it is an Act \"to define and amend certain \\nparts of the law relating to contract\". It extends to the whole of Ind ia except the State of Jammu \\nand Kashmir.   \\nDefinition and Essentials of CONTRACT \\nA Contract is an agreement enforceable by law. An agreement is enforceable by law, if it \\nis made by the free consent of the parties who are competent to contract and the agreement \\nis made with a lawful object and is for a lawful consideration, and is not hereby expressly \\ndeclared to be void. The agreement which is not enforceable by law is not called contract.'),\n",
       "  Document(id='90880c1e-1757-4550-869a-81af5757de44', metadata={'creationdate': '', 'creator': 'Nitro Pro 12', 'moddate': '2020-06-26T16:26:07+05:30', 'page': 34, 'page_label': '35', 'producer': 'PyPDF', 'source': 'lawdocunment.pdf', 'total_pages': 171}, page_content='the consumer’s protection in e-contract. \\nDefinition \\nE-contract is a kind of contracts formed by negotiation of two or more individuals through \\nthe use electronic means, such as email, the interaction of an individual with an electronic agent, \\nsuch as a computer program or the interaction of atleast two electronic agents th at are \\nprogrammed to recognize the existence of a contract.  E-contract is one of the divisions of e -\\ncommerce or e -business. It holds a similar meaning to traditional business wherein goods and \\nservices are switched for a particular amount of consideration.  The only extra element it has is \\nthat the contract here takes place through a digital mode of communication like the internet. It \\nprovides an opportunity for the sellers to reach the end of consumer directly without the \\ninvolvement of the middlemen. \\n  E-Contracts are contracts attracting principles of Uberrimaefidei in which the contracting'),\n",
       "  Document(id='b9785a16-3709-46ae-a004-882d9811f5dd', metadata={'creationdate': '', 'creator': 'Nitro Pro 12', 'moddate': '2020-06-26T16:26:07+05:30', 'page': 145, 'page_label': '146', 'producer': 'PyPDF', 'source': 'lawdocunment.pdf', 'total_pages': 171}, page_content='example contract of mortgage of immovable property  (Rambai v. Khimji) , contract of sale of \\ngoods (Bharat v. Nisarali) contract of repair of premises etc. \\nWhere a contract runs into minutes or numerous detail: \\nThese contracts includes contract which depends upon the personal qualification or the violation \\nof the parties or is of such nature that the court cannot enforce specific performance of its \\nmaterial term s. In  Robinson Davison, it was held by the court that the contract to perform in \\nconcert depends upon the personal kill of defendant’s wife, and the contract cannot be \\nspecifically enforced due to her illness. The other example is construction contract where the \\ndetailed terms of contract are not explained. \\nContracts of determinable nature: \\nDeterminable contract means a contract which can be determined or revoked or put to an end by \\na party to the contract. For example in case of partnership at will any partner can retire by giving'),\n",
       "  Document(id='b7ea8e63-ab3d-471c-9980-96aabee0c958', metadata={'creationdate': '', 'creator': 'Nitro Pro 12', 'moddate': '2020-06-26T16:26:07+05:30', 'page': 34, 'page_label': '35', 'producer': 'PyPDF', 'source': 'lawdocunment.pdf', 'total_pages': 171}, page_content='shopping. A viewer from any part of the world may want to get into contract to purchase a \\nproduct as advertised. In this transaction, the issue is raised for its execution and protection of the \\nconsumers. Fundamental Principles of contract law continue to prevail in contracts made on the \\ninternet. Nevertheless, not all principles will or can apply in the same manner that they apply to \\ntraditional paper-based and oral contracts. In India, the recognition of an electronic contract is \\nmainly supported by the Information Technology Act, 2000. This paper is divided into basic \\nresearch issues in e -contracts, including conceptual analysis of e -contract, standard forms of e \\ncontracts, and the ways in which e -contract is concluded, the laws governing to it in India and \\nthe consumer’s protection in e-contract. \\nDefinition \\nE-contract is a kind of contracts formed by negotiation of two or more individuals through')],\n",
       " 'answer': 'A contract is an agreement enforceable by law. It is made by the free consent of parties who are competent to contract, with a lawful object and for a lawful consideration, and is not hereby expressly declared to be void.'}"
      ]
     },
     "execution_count": 12,
     "metadata": {},
     "output_type": "execute_result"
    }
   ],
   "source": [
    "response=rag_chain.invoke({\"input\":\"What is contract\"})\n",
    "response"
   ]
  },
  {
   "cell_type": "code",
   "execution_count": 13,
   "metadata": {},
   "outputs": [
    {
     "data": {
      "text/plain": [
       "'A contract is an agreement enforceable by law. It is made by the free consent of parties who are competent to contract, with a lawful object and for a lawful consideration, and is not hereby expressly declared to be void.'"
      ]
     },
     "execution_count": 13,
     "metadata": {},
     "output_type": "execute_result"
    }
   ],
   "source": [
    "response['answer']"
   ]
  },
  {
   "cell_type": "code",
   "execution_count": null,
   "metadata": {},
   "outputs": [],
   "source": []
  }
 ],
 "metadata": {
  "kernelspec": {
   "display_name": "langenv",
   "language": "python",
   "name": "python3"
  },
  "language_info": {
   "codemirror_mode": {
    "name": "ipython",
    "version": 3
   },
   "file_extension": ".py",
   "mimetype": "text/x-python",
   "name": "python",
   "nbconvert_exporter": "python",
   "pygments_lexer": "ipython3",
   "version": "3.10.0"
  }
 },
 "nbformat": 4,
 "nbformat_minor": 2
}
